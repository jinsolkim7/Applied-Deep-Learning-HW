{
 "cells": [
  {
   "cell_type": "markdown",
   "metadata": {},
   "source": [
    "### HW 1-2(1) (lr=0.01)"
   ]
  },
  {
   "cell_type": "markdown",
   "metadata": {},
   "source": [
    "- MNIST data, 10 class classification\n",
    "- output layer를 제외하고 모든 hidden layer의 activation function을 relu로 통일\n",
    "- loss: categorical_crossentropy 사용\n",
    "- hidden layer: 총 9층, 각 layer는 256개 neuron\n",
    "- train data는 60,000개의 example => train data 55,000개, validation data 5,000개\n",
    "- 미니배치 64개\n",
    "- epoch수 15\n",
    "- learning rate 0.1 and 0.01\n",
    "- train loss와 val loss 함께 볼 수 있는 그래프(learning curve) 그리기\n",
    "- train accuracy와 val accuracy를 함께 볼 수 있는 그래프 (learning curve) 그리기\n",
    "- 최종 performance 출력"
   ]
  },
  {
   "cell_type": "markdown",
   "metadata": {},
   "source": [
    "1-1과 모든 것이 동일하지만 learning rate를 추가로 0.1과 0.01로 변경하여 실험을 진행하고 세 가지 (learning rate = 0.1, 0.01, 0.001)의 결과를 learning curves와 test 정확도를 가지고 비교 분석하세요."
   ]
  },
  {
   "cell_type": "markdown",
   "metadata": {},
   "source": [
    "#### 1. importing data"
   ]
  },
  {
   "cell_type": "code",
   "execution_count": 1,
   "metadata": {
    "scrolled": true
   },
   "outputs": [
    {
     "name": "stderr",
     "output_type": "stream",
     "text": [
      "Using TensorFlow backend.\n"
     ]
    }
   ],
   "source": [
    "from keras.datasets import mnist"
   ]
  },
  {
   "cell_type": "code",
   "execution_count": 2,
   "metadata": {},
   "outputs": [],
   "source": [
    "(train_images, train_labels), (test_images, test_labels) = mnist.load_data()"
   ]
  },
  {
   "cell_type": "code",
   "execution_count": 3,
   "metadata": {},
   "outputs": [
    {
     "data": {
      "text/plain": [
       "(60000, 28, 28)"
      ]
     },
     "execution_count": 3,
     "metadata": {},
     "output_type": "execute_result"
    }
   ],
   "source": [
    "train_images.shape"
   ]
  },
  {
   "cell_type": "code",
   "execution_count": 4,
   "metadata": {},
   "outputs": [
    {
     "data": {
      "text/plain": [
       "60000"
      ]
     },
     "execution_count": 4,
     "metadata": {},
     "output_type": "execute_result"
    }
   ],
   "source": [
    "len(train_labels)"
   ]
  },
  {
   "cell_type": "code",
   "execution_count": 5,
   "metadata": {},
   "outputs": [
    {
     "data": {
      "text/plain": [
       "array([5, 0, 4, ..., 5, 6, 8], dtype=uint8)"
      ]
     },
     "execution_count": 5,
     "metadata": {},
     "output_type": "execute_result"
    }
   ],
   "source": [
    "train_labels"
   ]
  },
  {
   "cell_type": "code",
   "execution_count": 6,
   "metadata": {},
   "outputs": [
    {
     "data": {
      "text/plain": [
       "(10000, 28, 28)"
      ]
     },
     "execution_count": 6,
     "metadata": {},
     "output_type": "execute_result"
    }
   ],
   "source": [
    "test_images.shape"
   ]
  },
  {
   "cell_type": "code",
   "execution_count": 7,
   "metadata": {},
   "outputs": [
    {
     "data": {
      "text/plain": [
       "10000"
      ]
     },
     "execution_count": 7,
     "metadata": {},
     "output_type": "execute_result"
    }
   ],
   "source": [
    "len(test_labels)"
   ]
  },
  {
   "cell_type": "code",
   "execution_count": 8,
   "metadata": {},
   "outputs": [
    {
     "data": {
      "text/plain": [
       "array([7, 2, 1, ..., 4, 5, 6], dtype=uint8)"
      ]
     },
     "execution_count": 8,
     "metadata": {},
     "output_type": "execute_result"
    }
   ],
   "source": [
    "test_labels"
   ]
  },
  {
   "cell_type": "markdown",
   "metadata": {},
   "source": [
    "#### 2. building network"
   ]
  },
  {
   "cell_type": "code",
   "execution_count": 9,
   "metadata": {},
   "outputs": [],
   "source": [
    "from keras import models\n",
    "from keras import layers\n",
    "\n",
    "network = models.Sequential()\n",
    "network.add(layers.Dense(256, activation='relu', input_shape=(28*28,)))\n",
    "network.add(layers.Dense(256, activation='relu'))\n",
    "network.add(layers.Dense(256, activation='relu'))\n",
    "network.add(layers.Dense(256, activation='relu'))\n",
    "network.add(layers.Dense(256, activation='relu'))\n",
    "network.add(layers.Dense(256, activation='relu'))\n",
    "network.add(layers.Dense(256, activation='relu'))\n",
    "network.add(layers.Dense(256, activation='relu'))\n",
    "network.add(layers.Dense(256, activation='relu'))\n",
    "network.add(layers.Dense(10, activation='softmax'))"
   ]
  },
  {
   "cell_type": "markdown",
   "metadata": {},
   "source": [
    "#### 3. setting optimizers"
   ]
  },
  {
   "cell_type": "code",
   "execution_count": 10,
   "metadata": {},
   "outputs": [],
   "source": [
    "from keras import optimizers\n",
    "\n",
    "network.compile(optimizer=optimizers.RMSprop(lr=0.01),\n",
    "             loss='binary_crossentropy',\n",
    "             metrics=['accuracy'])"
   ]
  },
  {
   "cell_type": "markdown",
   "metadata": {},
   "source": [
    "#### 4. preparing image data"
   ]
  },
  {
   "cell_type": "code",
   "execution_count": 11,
   "metadata": {},
   "outputs": [],
   "source": [
    "train_images = train_images.reshape((60000, 28*28))\n",
    "train_images = train_images.astype('float32') / 255\n",
    "\n",
    "test_images = test_images.reshape((10000, 28*28))\n",
    "test_images = test_images.astype('float32') / 255"
   ]
  },
  {
   "cell_type": "markdown",
   "metadata": {},
   "source": [
    "#### 5. preparing label"
   ]
  },
  {
   "cell_type": "code",
   "execution_count": 12,
   "metadata": {},
   "outputs": [],
   "source": [
    "from keras.utils import to_categorical\n",
    "\n",
    "train_labels = to_categorical(train_labels)\n",
    "test_labels = to_categorical(test_labels)"
   ]
  },
  {
   "cell_type": "markdown",
   "metadata": {},
   "source": [
    "#### 6. validation"
   ]
  },
  {
   "cell_type": "code",
   "execution_count": 13,
   "metadata": {},
   "outputs": [],
   "source": [
    "x_val = train_images[55000:]\n",
    "partial_x_train = train_images[:55000]\n",
    "\n",
    "y_val = train_labels[55000:]\n",
    "partial_y_train = train_labels[:55000]"
   ]
  },
  {
   "cell_type": "markdown",
   "metadata": {},
   "source": [
    "#### 7. model (network) training"
   ]
  },
  {
   "cell_type": "code",
   "execution_count": 14,
   "metadata": {},
   "outputs": [
    {
     "name": "stdout",
     "output_type": "stream",
     "text": [
      "Train on 55000 samples, validate on 5000 samples\n",
      "Epoch 1/15\n",
      "55000/55000 [==============================] - 16s 292us/step - loss: 1.0815 - accuracy: 0.8905 - val_loss: 0.0887 - val_accuracy: 0.9810\n",
      "Epoch 2/15\n",
      "55000/55000 [==============================] - 16s 289us/step - loss: 0.0851 - accuracy: 0.9787 - val_loss: 0.0524 - val_accuracy: 0.9870\n",
      "Epoch 3/15\n",
      "55000/55000 [==============================] - 15s 275us/step - loss: 0.0843 - accuracy: 0.9808 - val_loss: 0.0432 - val_accuracy: 0.9889\n",
      "Epoch 4/15\n",
      "55000/55000 [==============================] - 15s 274us/step - loss: 0.0874 - accuracy: 0.9812 - val_loss: 0.0464 - val_accuracy: 0.9882\n",
      "Epoch 5/15\n",
      "55000/55000 [==============================] - 15s 275us/step - loss: 0.0933 - accuracy: 0.9804 - val_loss: 0.0867 - val_accuracy: 0.9848\n",
      "Epoch 6/15\n",
      "55000/55000 [==============================] - 15s 279us/step - loss: 0.1171 - accuracy: 0.9761 - val_loss: 0.4033 - val_accuracy: 0.9542\n",
      "Epoch 7/15\n",
      "55000/55000 [==============================] - 15s 276us/step - loss: 0.1171 - accuracy: 0.9747 - val_loss: 0.0571 - val_accuracy: 0.9886\n",
      "Epoch 8/15\n",
      "55000/55000 [==============================] - 15s 271us/step - loss: 0.1506 - accuracy: 0.9562 - val_loss: 0.1481 - val_accuracy: 0.9627\n",
      "Epoch 9/15\n",
      "55000/55000 [==============================] - 15s 281us/step - loss: 0.1989 - accuracy: 0.9513 - val_loss: 0.0972 - val_accuracy: 0.9684 - accuracy: 0.\n",
      "Epoch 10/15\n",
      "55000/55000 [==============================] - 21s 378us/step - loss: 0.2444 - accuracy: 0.9265 - val_loss: 0.3128 - val_accuracy: 0.9144\n",
      "Epoch 11/15\n",
      "55000/55000 [==============================] - 20s 368us/step - loss: 0.3138 - accuracy: 0.9041 - val_loss: 0.3251 - val_accuracy: 0.9000\n",
      "Epoch 12/15\n",
      "55000/55000 [==============================] - 15s 278us/step - loss: 0.3250 - accuracy: 0.9000 - val_loss: 0.3250 - val_accuracy: 0.9000\n",
      "Epoch 13/15\n",
      "55000/55000 [==============================] - 15s 275us/step - loss: 0.3250 - accuracy: 0.9000 - val_loss: 0.3251 - val_accuracy: 0.9000\n",
      "Epoch 14/15\n",
      "55000/55000 [==============================] - 15s 279us/step - loss: 0.3250 - accuracy: 0.9000 - val_loss: 0.3251 - val_accuracy: 0.9000\n",
      "Epoch 15/15\n",
      "55000/55000 [==============================] - 16s 282us/step - loss: 0.3250 - accuracy: 0.9000 - val_loss: 0.3251 - val_accuracy: 0.9000- loss: 0.3250 - accuracy: 0. - E\n"
     ]
    }
   ],
   "source": [
    "history = network.fit(partial_x_train,\n",
    "                   partial_y_train,\n",
    "                   epochs=15,\n",
    "                   batch_size=64,\n",
    "                   validation_data=(x_val, y_val))"
   ]
  },
  {
   "cell_type": "code",
   "execution_count": 15,
   "metadata": {},
   "outputs": [
    {
     "data": {
      "text/plain": [
       "dict_keys(['val_loss', 'val_accuracy', 'loss', 'accuracy'])"
      ]
     },
     "execution_count": 15,
     "metadata": {},
     "output_type": "execute_result"
    }
   ],
   "source": [
    "history_dict = history.history\n",
    "history_dict.keys()"
   ]
  },
  {
   "cell_type": "markdown",
   "metadata": {},
   "source": [
    "#### 8. plotting training and validation loss"
   ]
  },
  {
   "cell_type": "code",
   "execution_count": 16,
   "metadata": {},
   "outputs": [
    {
     "data": {
      "image/png": "[encoded data removed]",
      "text/plain": [
       "<Figure size 432x288 with 1 Axes>"
      ]
     },
     "metadata": {
      "needs_background": "light"
     },
     "output_type": "display_data"
    }
   ],
   "source": [
    "import matplotlib.pyplot as plt\n",
    "\n",
    "loss = history_dict['loss']\n",
    "val_loss = history_dict['val_loss']\n",
    "\n",
    "epochs = range(1, len(loss) + 1)\n",
    "\n",
    "plt.plot(epochs, loss, 'orange', label='Training loss')\n",
    "plt.plot(epochs, val_loss, 'royalblue', label='Validation loss')\n",
    "plt.title('Training and validation loss')\n",
    "plt.xlabel('Epochs')\n",
    "plt.ylabel('Loss')\n",
    "plt.legend()\n",
    "\n",
    "plt.show()"
   ]
  },
  {
   "cell_type": "code",
   "execution_count": 17,
   "metadata": {},
   "outputs": [
    {
     "data": {
      "image/png": "[encoded data removed]",
      "text/plain": [
       "<Figure size 432x288 with 1 Axes>"
      ]
     },
     "metadata": {
      "needs_background": "light"
     },
     "output_type": "display_data"
    }
   ],
   "source": [
    "plt.clf() # clear figure\n",
    "\n",
    "acc = history_dict['accuracy']\n",
    "val_acc = history_dict['val_accuracy']\n",
    "\n",
    "plt.plot(epochs, acc, 'orange', label='Training acc')\n",
    "plt.plot(epochs, val_acc, 'royalblue', label='Validation acc')\n",
    "plt.title('Training and validation accuracy')\n",
    "plt.xlabel('Epochs')\n",
    "plt.ylabel('Accuracy')\n",
    "plt.legend()\n",
    "\n",
    "plt.show()"
   ]
  },
  {
   "cell_type": "markdown",
   "metadata": {},
   "source": [
    "#### 9. results"
   ]
  },
  {
   "cell_type": "code",
   "execution_count": 18,
   "metadata": {},
   "outputs": [
    {
     "name": "stdout",
     "output_type": "stream",
     "text": [
      "10000/10000 [==============================] - 1s 107us/step\n"
     ]
    }
   ],
   "source": [
    "results = network.evaluate(test_images, test_labels)"
   ]
  },
  {
   "cell_type": "code",
   "execution_count": 19,
   "metadata": {},
   "outputs": [
    {
     "data": {
      "text/plain": [
       "[0.32502627968788145, 0.8999972939491272]"
      ]
     },
     "execution_count": 19,
     "metadata": {},
     "output_type": "execute_result"
    }
   ],
   "source": [
    "results"
   ]
  }
 ],
 "metadata": {
  "kernelspec": {
   "display_name": "Python 3",
   "language": "python",
   "name": "python3"
  },
  "language_info": {
   "codemirror_mode": {
    "name": "ipython",
    "version": 3
   },
   "file_extension": ".py",
   "mimetype": "text/x-python",
   "name": "python",
   "nbconvert_exporter": "python",
   "pygments_lexer": "ipython3",
   "version": "3.7.7"
  }
 },
 "nbformat": 4,
 "nbformat_minor": 4
}
