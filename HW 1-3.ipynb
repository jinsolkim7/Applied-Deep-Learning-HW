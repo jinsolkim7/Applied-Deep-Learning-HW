{
 "cells": [
  {
   "cell_type": "markdown",
   "metadata": {},
   "source": [
    "### HW 1-3"
   ]
  },
  {
   "cell_type": "markdown",
   "metadata": {},
   "source": [
    "- MNIST data, 10 class classification\n",
    "- output layer를 제외하고 모든 hidden layer의 activation function을 relu로 통일\n",
    "- loss: categorical_crossentropy 사용\n",
    "- hidden layer: 총 9층, 각 layer는 256개 neuron\n",
    "- train data는 60,000개의 example => train data 55,000개, validation data 5,000개\n",
    "- 미니배치 64개\n",
    "- epoch수 15\n",
    "- learning rate 0.1 and 0.01\n",
    "- train loss와 val loss 함께 볼 수 있는 그래프(learning curve) 그리기\n",
    "- train accuracy와 val accuracy를 함께 볼 수 있는 그래프 (learning curve) 그리기\n",
    "- 최종 performance 출력"
   ]
  },
  {
   "cell_type": "markdown",
   "metadata": {},
   "source": [
    "Keras 빌트인 데이터 Cifar100를 이용하여 20 class classification을 하세요 (label mode를 coarse로 선택). Train data는 50,000개의 examples를 포함하는데 이 것을 split하여 train data로 45,000개를 만들고 validation data로 5,000개를 만드세요. 나머지는 1-1과 모든 것을 동일하게 수행하세요."
   ]
  },
  {
   "cell_type": "markdown",
   "metadata": {},
   "source": [
    "#### 1. importing data"
   ]
  },
  {
   "cell_type": "code",
   "execution_count": 1,
   "metadata": {
    "scrolled": true
   },
   "outputs": [
    {
     "name": "stderr",
     "output_type": "stream",
     "text": [
      "Using TensorFlow backend.\n"
     ]
    }
   ],
   "source": [
    "from keras.datasets import cifar100"
   ]
  },
  {
   "cell_type": "code",
   "execution_count": 2,
   "metadata": {},
   "outputs": [],
   "source": [
    "(x_train, y_train), (x_test, y_test) = cifar100.load_data('coarse')"
   ]
  },
  {
   "cell_type": "code",
   "execution_count": 3,
   "metadata": {},
   "outputs": [
    {
     "data": {
      "text/plain": [
       "(50000, 32, 32, 3)"
      ]
     },
     "execution_count": 3,
     "metadata": {},
     "output_type": "execute_result"
    }
   ],
   "source": [
    "x_train.shape"
   ]
  },
  {
   "cell_type": "code",
   "execution_count": 4,
   "metadata": {},
   "outputs": [
    {
     "data": {
      "text/plain": [
       "50000"
      ]
     },
     "execution_count": 4,
     "metadata": {},
     "output_type": "execute_result"
    }
   ],
   "source": [
    "len(y_train)"
   ]
  },
  {
   "cell_type": "code",
   "execution_count": 5,
   "metadata": {},
   "outputs": [
    {
     "data": {
      "text/plain": [
       "array([[11],\n",
       "       [15],\n",
       "       [ 4],\n",
       "       ...,\n",
       "       [ 8],\n",
       "       [ 7],\n",
       "       [ 1]])"
      ]
     },
     "execution_count": 5,
     "metadata": {},
     "output_type": "execute_result"
    }
   ],
   "source": [
    "y_train"
   ]
  },
  {
   "cell_type": "code",
   "execution_count": 6,
   "metadata": {},
   "outputs": [
    {
     "data": {
      "text/plain": [
       "(10000, 32, 32, 3)"
      ]
     },
     "execution_count": 6,
     "metadata": {},
     "output_type": "execute_result"
    }
   ],
   "source": [
    "x_test.shape"
   ]
  },
  {
   "cell_type": "code",
   "execution_count": 7,
   "metadata": {},
   "outputs": [
    {
     "data": {
      "text/plain": [
       "10000"
      ]
     },
     "execution_count": 7,
     "metadata": {},
     "output_type": "execute_result"
    }
   ],
   "source": [
    "len(y_test)"
   ]
  },
  {
   "cell_type": "code",
   "execution_count": 8,
   "metadata": {},
   "outputs": [
    {
     "data": {
      "text/plain": [
       "array([[10],\n",
       "       [10],\n",
       "       [ 0],\n",
       "       ...,\n",
       "       [ 4],\n",
       "       [ 8],\n",
       "       [ 2]])"
      ]
     },
     "execution_count": 8,
     "metadata": {},
     "output_type": "execute_result"
    }
   ],
   "source": [
    "y_test"
   ]
  },
  {
   "cell_type": "markdown",
   "metadata": {},
   "source": [
    "#### 2. building network"
   ]
  },
  {
   "cell_type": "code",
   "execution_count": 9,
   "metadata": {},
   "outputs": [],
   "source": [
    "from keras import models\n",
    "from keras import layers\n",
    "\n",
    "network = models.Sequential()\n",
    "network.add(layers.Dense(256, activation='relu', input_shape=(32*32*3,)))\n",
    "network.add(layers.Dense(256, activation='relu'))\n",
    "network.add(layers.Dense(256, activation='relu'))\n",
    "network.add(layers.Dense(256, activation='relu'))\n",
    "network.add(layers.Dense(256, activation='relu'))\n",
    "network.add(layers.Dense(256, activation='relu'))\n",
    "network.add(layers.Dense(256, activation='relu'))\n",
    "network.add(layers.Dense(256, activation='relu'))\n",
    "network.add(layers.Dense(256, activation='relu'))\n",
    "network.add(layers.Dense(20, activation='softmax'))"
   ]
  },
  {
   "cell_type": "markdown",
   "metadata": {},
   "source": [
    "#### 3. setting optimizers"
   ]
  },
  {
   "cell_type": "code",
   "execution_count": 10,
   "metadata": {},
   "outputs": [],
   "source": [
    "from keras import optimizers\n",
    "\n",
    "network.compile(optimizer=optimizers.RMSprop(lr=0.001),\n",
    "             loss='binary_crossentropy',\n",
    "             metrics=['accuracy'])"
   ]
  },
  {
   "cell_type": "markdown",
   "metadata": {},
   "source": [
    "#### 4. preparing image data"
   ]
  },
  {
   "cell_type": "code",
   "execution_count": 11,
   "metadata": {},
   "outputs": [],
   "source": [
    "x_train = x_train.reshape((50000, 32*32*3))\n",
    "x_train = x_train.astype('float32') / 255\n",
    "\n",
    "x_test = x_test.reshape((10000, 32*32*3))\n",
    "x_test = x_test.astype('float32') / 255"
   ]
  },
  {
   "cell_type": "markdown",
   "metadata": {},
   "source": [
    "#### 5. preparing label"
   ]
  },
  {
   "cell_type": "code",
   "execution_count": 12,
   "metadata": {},
   "outputs": [],
   "source": [
    "from keras.utils import to_categorical\n",
    "\n",
    "y_train = to_categorical(y_train)\n",
    "y_test = to_categorical(y_test)"
   ]
  },
  {
   "cell_type": "markdown",
   "metadata": {},
   "source": [
    "#### 6. validation"
   ]
  },
  {
   "cell_type": "code",
   "execution_count": 14,
   "metadata": {},
   "outputs": [],
   "source": [
    "x_val = x_train[45000:]\n",
    "partial_x_train = x_train[:45000]\n",
    "\n",
    "y_val = y_train[45000:]\n",
    "partial_y_train = y_train[:45000]"
   ]
  },
  {
   "cell_type": "markdown",
   "metadata": {},
   "source": [
    "#### 7. model (network) training"
   ]
  },
  {
   "cell_type": "code",
   "execution_count": 15,
   "metadata": {},
   "outputs": [
    {
     "name": "stdout",
     "output_type": "stream",
     "text": [
      "Train on 45000 samples, validate on 5000 samples\n",
      "Epoch 1/15\n",
      "45000/45000 [==============================] - 27s 598us/step - loss: 0.1890 - accuracy: 0.9498 - val_loss: 0.1860 - val_accuracy: 0.9500\n",
      "Epoch 2/15\n",
      "45000/45000 [==============================] - 24s 524us/step - loss: 0.1793 - accuracy: 0.9501 - val_loss: 0.1832 - val_accuracy: 0.9495\n",
      "Epoch 3/15\n",
      "45000/45000 [==============================] - 26s 579us/step - loss: 0.1742 - accuracy: 0.9506 - val_loss: 0.1930 - val_accuracy: 0.9493\n",
      "Epoch 4/15\n",
      "45000/45000 [==============================] - 23s 511us/step - loss: 0.1705 - accuracy: 0.9510 - val_loss: 0.1733 - val_accuracy: 0.9507\n",
      "Epoch 5/15\n",
      "45000/45000 [==============================] - 25s 550us/step - loss: 0.1679 - accuracy: 0.9513 - val_loss: 0.1756 - val_accuracy: 0.9499\n",
      "Epoch 6/15\n",
      "45000/45000 [==============================] - 24s 523us/step - loss: 0.1658 - accuracy: 0.9516 - val_loss: 0.1724 - val_accuracy: 0.9506\n",
      "Epoch 7/15\n",
      "45000/45000 [==============================] - 23s 520us/step - loss: 0.1642 - accuracy: 0.9517 - val_loss: 0.1792 - val_accuracy: 0.9500\n",
      "Epoch 8/15\n",
      "45000/45000 [==============================] - 26s 574us/step - loss: 0.1631 - accuracy: 0.9518 - val_loss: 0.1888 - val_accuracy: 0.9482\n",
      "Epoch 9/15\n",
      "45000/45000 [==============================] - 25s 546us/step - loss: 0.1621 - accuracy: 0.9519 - val_loss: 0.1736 - val_accuracy: 0.9508\n",
      "Epoch 10/15\n",
      "45000/45000 [==============================] - 24s 528us/step - loss: 0.1612 - accuracy: 0.9522 - val_loss: 0.1749 - val_accuracy: 0.9504\n",
      "Epoch 11/15\n",
      "45000/45000 [==============================] - 24s 541us/step - loss: 0.1609 - accuracy: 0.9522 - val_loss: 0.1887 - val_accuracy: 0.9492\n",
      "Epoch 12/15\n",
      "45000/45000 [==============================] - 23s 509us/step - loss: 0.1606 - accuracy: 0.9523 - val_loss: 0.1717 - val_accuracy: 0.9506\n",
      "Epoch 13/15\n",
      "45000/45000 [==============================] - 23s 512us/step - loss: 0.1608 - accuracy: 0.9522 - val_loss: 0.1750 - val_accuracy: 0.9510\n",
      "Epoch 14/15\n",
      "45000/45000 [==============================] - 23s 519us/step - loss: 0.1605 - accuracy: 0.9523 - val_loss: 0.1709 - val_accuracy: 0.9517\n",
      "Epoch 15/15\n",
      "45000/45000 [==============================] - 23s 506us/step - loss: 0.1602 - accuracy: 0.9525 - val_loss: 0.1708 - val_accuracy: 0.9521\n"
     ]
    }
   ],
   "source": [
    "history = network.fit(partial_x_train,\n",
    "                   partial_y_train,\n",
    "                   epochs=15,\n",
    "                   batch_size=64,\n",
    "                   validation_data=(x_val, y_val))"
   ]
  },
  {
   "cell_type": "code",
   "execution_count": 16,
   "metadata": {},
   "outputs": [
    {
     "data": {
      "text/plain": [
       "dict_keys(['val_loss', 'val_accuracy', 'loss', 'accuracy'])"
      ]
     },
     "execution_count": 16,
     "metadata": {},
     "output_type": "execute_result"
    }
   ],
   "source": [
    "history_dict = history.history\n",
    "history_dict.keys()"
   ]
  },
  {
   "cell_type": "markdown",
   "metadata": {},
   "source": [
    "#### 8. plotting training and validation loss"
   ]
  },
  {
   "cell_type": "code",
   "execution_count": 17,
   "metadata": {},
   "outputs": [
    {
     "data": {
      "image/png": "[encoded data removed]",
      "text/plain": [
       "<Figure size 432x288 with 1 Axes>"
      ]
     },
     "metadata": {
      "needs_background": "light"
     },
     "output_type": "display_data"
    }
   ],
   "source": [
    "import matplotlib.pyplot as plt\n",
    "\n",
    "loss = history_dict['loss']\n",
    "val_loss = history_dict['val_loss']\n",
    "\n",
    "epochs = range(1, len(loss) + 1)\n",
    "\n",
    "plt.plot(epochs, loss, 'orange', label='Training loss')\n",
    "plt.plot(epochs, val_loss, 'royalblue', label='Validation loss')\n",
    "plt.title('Training and validation loss')\n",
    "plt.xlabel('Epochs')\n",
    "plt.ylabel('Loss')\n",
    "plt.legend()\n",
    "\n",
    "plt.show()"
   ]
  },
  {
   "cell_type": "code",
   "execution_count": 18,
   "metadata": {},
   "outputs": [
    {
     "data": {
      "image/png": "[encoded data removed]",
      "text/plain": [
       "<Figure size 432x288 with 1 Axes>"
      ]
     },
     "metadata": {
      "needs_background": "light"
     },
     "output_type": "display_data"
    }
   ],
   "source": [
    "plt.clf() # clear figure\n",
    "\n",
    "acc = history_dict['accuracy']\n",
    "val_acc = history_dict['val_accuracy']\n",
    "\n",
    "plt.plot(epochs, acc, 'orange', label='Training acc')\n",
    "plt.plot(epochs, val_acc, 'royalblue', label='Validation acc')\n",
    "plt.title('Training and validation accuracy')\n",
    "plt.xlabel('Epochs')\n",
    "plt.ylabel('Accuracy')\n",
    "plt.legend()\n",
    "\n",
    "plt.show()"
   ]
  },
  {
   "cell_type": "markdown",
   "metadata": {},
   "source": [
    "#### 9. results"
   ]
  },
  {
   "cell_type": "code",
   "execution_count": 19,
   "metadata": {},
   "outputs": [
    {
     "name": "stdout",
     "output_type": "stream",
     "text": [
      "10000/10000 [==============================] - 2s 222us/step\n"
     ]
    }
   ],
   "source": [
    "results = network.evaluate(x_test, y_test)"
   ]
  },
  {
   "cell_type": "code",
   "execution_count": 20,
   "metadata": {},
   "outputs": [
    {
     "data": {
      "text/plain": [
       "[0.17076183593273161, 0.9517199993133545]"
      ]
     },
     "execution_count": 20,
     "metadata": {},
     "output_type": "execute_result"
    }
   ],
   "source": [
    "results"
   ]
  }
 ],
 "metadata": {
  "kernelspec": {
   "display_name": "Python 3",
   "language": "python",
   "name": "python3"
  },
  "language_info": {
   "codemirror_mode": {
    "name": "ipython",
    "version": 3
   },
   "file_extension": ".py",
   "mimetype": "text/x-python",
   "name": "python",
   "nbconvert_exporter": "python",
   "pygments_lexer": "ipython3",
   "version": "3.7.7"
  }
 },
 "nbformat": 4,
 "nbformat_minor": 4
}
