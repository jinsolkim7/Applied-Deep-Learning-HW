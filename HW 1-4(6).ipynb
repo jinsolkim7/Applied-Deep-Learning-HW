{
 "cells": [
  {
   "cell_type": "markdown",
   "metadata": {},
   "source": [
    "### HW 1-4"
   ]
  },
  {
   "cell_type": "markdown",
   "metadata": {},
   "source": [
    "텍스트북의 3.4 (3.4_Binary_Classification_classifying-movie-reviews) 예제에서\n",
    "<br/> 1) We are using 2 hidden layers. Try to use 1 or 3 hidden layers and see how it affects validation and test accuracy.\n",
    "<br/> 2) Try to use layers with more hidden units or less hidden units: 32 units, 64 units...\n",
    "<br/> 3) Try to use the`mse` loss function instead of `binary_crossentropy`.\n",
    "<br/> 4) Try to use the `tanh` activation (an activation that was popular in the early days of neural networks) instead of `relu`."
   ]
  },
  {
   "cell_type": "markdown",
   "metadata": {},
   "source": [
    "#### 1. importing data"
   ]
  },
  {
   "cell_type": "code",
   "execution_count": null,
   "metadata": {
    "scrolled": true
   },
   "outputs": [],
   "source": [
    "from keras.datasets import imdb\n",
    "\n",
    "(train_data, train_labels), (test_data, test_labels) = imdb.load_data(num_words=10000)"
   ]
  },
  {
   "cell_type": "code",
   "execution_count": null,
   "metadata": {},
   "outputs": [],
   "source": [
    "train_data[0]"
   ]
  },
  {
   "cell_type": "code",
   "execution_count": 3,
   "metadata": {},
   "outputs": [
    {
     "data": {
      "text/plain": [
       "1"
      ]
     },
     "execution_count": 3,
     "metadata": {},
     "output_type": "execute_result"
    }
   ],
   "source": [
    "train_labels[0]"
   ]
  },
  {
   "cell_type": "code",
   "execution_count": 4,
   "metadata": {},
   "outputs": [
    {
     "data": {
      "text/plain": [
       "9999"
      ]
     },
     "execution_count": 4,
     "metadata": {},
     "output_type": "execute_result"
    }
   ],
   "source": [
    "max([max(sequence) for sequence in train_data])"
   ]
  },
  {
   "cell_type": "markdown",
   "metadata": {},
   "source": [
    "#### 2. preparing data (list to tensor)"
   ]
  },
  {
   "cell_type": "code",
   "execution_count": 5,
   "metadata": {},
   "outputs": [],
   "source": [
    "import numpy as np\n",
    "\n",
    "def vectorize_sequences(sequences, dimension=10000):\n",
    "    results = np.zeros((len(sequences), dimension))\n",
    "    for i, sequence in enumerate(sequences):\n",
    "        results[i, sequence] = 1.\n",
    "    return results\n",
    "\n",
    "x_train = vectorize_sequences(train_data)\n",
    "x_test = vectorize_sequences(test_data)"
   ]
  },
  {
   "cell_type": "code",
   "execution_count": 6,
   "metadata": {},
   "outputs": [
    {
     "data": {
      "text/plain": [
       "array([0., 1., 1., ..., 0., 0., 0.])"
      ]
     },
     "execution_count": 6,
     "metadata": {},
     "output_type": "execute_result"
    }
   ],
   "source": [
    "x_train[0]"
   ]
  },
  {
   "cell_type": "code",
   "execution_count": 7,
   "metadata": {},
   "outputs": [],
   "source": [
    "y_train = np.asarray(train_labels).astype('float32')\n",
    "y_test = np.asarray(test_labels).astype('float32')"
   ]
  },
  {
   "cell_type": "markdown",
   "metadata": {},
   "source": [
    "#### 2. building network"
   ]
  },
  {
   "cell_type": "code",
   "execution_count": 8,
   "metadata": {},
   "outputs": [],
   "source": [
    "from keras import models\n",
    "from keras import layers\n",
    "\n",
    "network = models.Sequential()\n",
    "network.add(layers.Dense(64, activation='relu', input_shape=(10000,)))\n",
    "network.add(layers.Dense(64, activation='relu'))\n",
    "network.add(layers.Dense(1, activation='sigmoid'))"
   ]
  },
  {
   "cell_type": "markdown",
   "metadata": {},
   "source": [
    "#### 3. setting optimizers"
   ]
  },
  {
   "cell_type": "code",
   "execution_count": 9,
   "metadata": {},
   "outputs": [
    {
     "name": "stdout",
     "output_type": "stream",
     "text": [
      "WARNING:tensorflow:From C:\\Users\\Ryu\\Anaconda3\\lib\\site-packages\\tensorflow\\python\\ops\\nn_impl.py:180: add_dispatch_support.<locals>.wrapper (from tensorflow.python.ops.array_ops) is deprecated and will be removed in a future version.\n",
      "Instructions for updating:\n",
      "Use tf.where in 2.0, which has the same broadcast rule as np.where\n"
     ]
    }
   ],
   "source": [
    "from keras import optimizers\n",
    "\n",
    "network.compile(optimizer='rmsprop',\n",
    "             loss='binary_crossentropy',\n",
    "             metrics=['accuracy'])"
   ]
  },
  {
   "cell_type": "markdown",
   "metadata": {},
   "source": [
    "#### 4. validation"
   ]
  },
  {
   "cell_type": "code",
   "execution_count": 10,
   "metadata": {},
   "outputs": [],
   "source": [
    "x_val = x_train[:10000]\n",
    "partial_x_train = x_train[10000:]\n",
    "\n",
    "y_val = y_train[:10000]\n",
    "partial_y_train = y_train[10000:]"
   ]
  },
  {
   "cell_type": "markdown",
   "metadata": {},
   "source": [
    "#### 5. model (network) training"
   ]
  },
  {
   "cell_type": "code",
   "execution_count": 11,
   "metadata": {},
   "outputs": [
    {
     "name": "stdout",
     "output_type": "stream",
     "text": [
      "WARNING:tensorflow:From C:\\Users\\Ryu\\Anaconda3\\lib\\site-packages\\keras\\backend\\tensorflow_backend.py:422: The name tf.global_variables is deprecated. Please use tf.compat.v1.global_variables instead.\n",
      "\n",
      "Train on 15000 samples, validate on 10000 samples\n",
      "Epoch 1/20\n",
      "15000/15000 [==============================] - 19s 1ms/step - loss: 0.4839 - accuracy: 0.7646 - val_loss: 0.3515 - val_accuracy: 0.8552\n",
      "Epoch 2/20\n",
      "15000/15000 [==============================] - 23s 2ms/step - loss: 0.2591 - accuracy: 0.9015 - val_loss: 0.3676 - val_accuracy: 0.8486\n",
      "Epoch 3/20\n",
      "15000/15000 [==============================] - 9s 610us/step - loss: 0.1860 - accuracy: 0.9328 - val_loss: 0.3796 - val_accuracy: 0.8532\n",
      "Epoch 4/20\n",
      "15000/15000 [==============================] - 9s 568us/step - loss: 0.1548 - accuracy: 0.9410 - val_loss: 0.3213 - val_accuracy: 0.8779\n",
      "Epoch 5/20\n",
      "15000/15000 [==============================] - 8s 564us/step - loss: 0.1055 - accuracy: 0.9639 - val_loss: 0.4410 - val_accuracy: 0.8517\n",
      "Epoch 6/20\n",
      "15000/15000 [==============================] - 8s 563us/step - loss: 0.0879 - accuracy: 0.9686 - val_loss: 0.3636 - val_accuracy: 0.8767\n",
      "Epoch 7/20\n",
      "15000/15000 [==============================] - 10s 648us/step - loss: 0.0704 - accuracy: 0.9774 - val_loss: 0.3916 - val_accuracy: 0.8770\n",
      "Epoch 8/20\n",
      "15000/15000 [==============================] - 9s 583us/step - loss: 0.0511 - accuracy: 0.9839 - val_loss: 0.4287 - val_accuracy: 0.8760\n",
      "Epoch 9/20\n",
      "15000/15000 [==============================] - 8s 551us/step - loss: 0.0442 - accuracy: 0.9862 - val_loss: 0.4530 - val_accuracy: 0.8771\n",
      "Epoch 10/20\n",
      "15000/15000 [==============================] - 8s 520us/step - loss: 0.0122 - accuracy: 0.9983 - val_loss: 0.5164 - val_accuracy: 0.8748\n",
      "Epoch 11/20\n",
      "15000/15000 [==============================] - 8s 518us/step - loss: 0.0436 - accuracy: 0.9880 - val_loss: 0.5464 - val_accuracy: 0.8751\n",
      "Epoch 12/20\n",
      "15000/15000 [==============================] - 8s 504us/step - loss: 0.0042 - accuracy: 0.9997 - val_loss: 0.6016 - val_accuracy: 0.8730\n",
      "Epoch 13/20\n",
      "15000/15000 [==============================] - 9s 573us/step - loss: 0.0399 - accuracy: 0.9904 - val_loss: 0.6449 - val_accuracy: 0.8691\n",
      "Epoch 14/20\n",
      "15000/15000 [==============================] - 8s 547us/step - loss: 0.0020 - accuracy: 0.9999 - val_loss: 0.6696 - val_accuracy: 0.8708\n",
      "Epoch 15/20\n",
      "15000/15000 [==============================] - 7s 473us/step - loss: 0.0014 - accuracy: 0.9999 - val_loss: 0.7266 - val_accuracy: 0.8701\n",
      "Epoch 16/20\n",
      "15000/15000 [==============================] - 7s 450us/step - loss: 0.0334 - accuracy: 0.9926 - val_loss: 0.7417 - val_accuracy: 0.8712\n",
      "Epoch 17/20\n",
      "15000/15000 [==============================] - 6s 416us/step - loss: 6.5127e-04 - accuracy: 1.0000 - val_loss: 0.7737 - val_accuracy: 0.8701\n",
      "Epoch 18/20\n",
      "15000/15000 [==============================] - 5s 355us/step - loss: 4.5586e-04 - accuracy: 1.0000 - val_loss: 0.8255 - val_accuracy: 0.8701\n",
      "Epoch 19/20\n",
      "15000/15000 [==============================] - 7s 489us/step - loss: 0.0262 - accuracy: 0.9941 - val_loss: 0.9415 - val_accuracy: 0.8614\n",
      "Epoch 20/20\n",
      "15000/15000 [==============================] - 6s 370us/step - loss: 4.6165e-04 - accuracy: 0.9999 - val_loss: 0.8966 - val_accuracy: 0.8686\n"
     ]
    }
   ],
   "source": [
    "history = network.fit(partial_x_train,\n",
    "                   partial_y_train,\n",
    "                   epochs=20,\n",
    "                   batch_size=512,\n",
    "                   validation_data=(x_val, y_val))"
   ]
  },
  {
   "cell_type": "code",
   "execution_count": 12,
   "metadata": {},
   "outputs": [
    {
     "data": {
      "text/plain": [
       "dict_keys(['val_loss', 'val_accuracy', 'loss', 'accuracy'])"
      ]
     },
     "execution_count": 12,
     "metadata": {},
     "output_type": "execute_result"
    }
   ],
   "source": [
    "history_dict = history.history\n",
    "history_dict.keys()"
   ]
  },
  {
   "cell_type": "markdown",
   "metadata": {},
   "source": [
    "#### 6. plotting training and validation loss"
   ]
  },
  {
   "cell_type": "code",
   "execution_count": 13,
   "metadata": {},
   "outputs": [
    {
     "data": {
      "text/plain": [
       "<Figure size 640x480 with 1 Axes>"
      ]
     },
     "metadata": {},
     "output_type": "display_data"
    }
   ],
   "source": [
    "import matplotlib.pyplot as plt\n",
    "\n",
    "loss = history_dict['loss']\n",
    "val_loss = history_dict['val_loss']\n",
    "\n",
    "epochs = range(1, len(loss) + 1)\n",
    "\n",
    "plt.plot(epochs, loss, 'orange', label='Training loss')\n",
    "plt.plot(epochs, val_loss, 'royalblue', label='Validation loss')\n",
    "plt.title('Training and validation loss')\n",
    "plt.xlabel('Epochs')\n",
    "plt.ylabel('Loss')\n",
    "plt.legend()\n",
    "\n",
    "plt.show()"
   ]
  },
  {
   "cell_type": "code",
   "execution_count": 14,
   "metadata": {},
   "outputs": [
    {
     "data": {
      "image/png": "[encoded data removed]",
      "text/plain": [
       "<Figure size 432x288 with 1 Axes>"
      ]
     },
     "metadata": {
      "needs_background": "light"
     },
     "output_type": "display_data"
    }
   ],
   "source": [
    "plt.clf() # clear figure\n",
    "\n",
    "acc = history_dict['accuracy']\n",
    "val_acc = history_dict['val_accuracy']\n",
    "\n",
    "plt.plot(epochs, acc, 'orange', label='Training acc')\n",
    "plt.plot(epochs, val_acc, 'royalblue', label='Validation acc')\n",
    "plt.title('Training and validation accuracy')\n",
    "plt.xlabel('Epochs')\n",
    "plt.ylabel('Accuracy')\n",
    "plt.legend()\n",
    "\n",
    "plt.show()"
   ]
  },
  {
   "cell_type": "markdown",
   "metadata": {},
   "source": [
    "#### 7. results"
   ]
  },
  {
   "cell_type": "code",
   "execution_count": 15,
   "metadata": {},
   "outputs": [
    {
     "name": "stdout",
     "output_type": "stream",
     "text": [
      "25000/25000 [==============================] - 23s 905us/step\n"
     ]
    }
   ],
   "source": [
    "results = network.evaluate(x_test, y_test)"
   ]
  },
  {
   "cell_type": "code",
   "execution_count": 16,
   "metadata": {},
   "outputs": [
    {
     "data": {
      "text/plain": [
       "[0.973469180893898, 0.8537999987602234]"
      ]
     },
     "execution_count": 16,
     "metadata": {},
     "output_type": "execute_result"
    }
   ],
   "source": [
    "results"
   ]
  }
 ],
 "metadata": {
  "kernelspec": {
   "display_name": "Python 3",
   "language": "python",
   "name": "python3"
  },
  "language_info": {
   "codemirror_mode": {
    "name": "ipython",
    "version": 3
   },
   "file_extension": ".py",
   "mimetype": "text/x-python",
   "name": "python",
   "nbconvert_exporter": "python",
   "pygments_lexer": "ipython3",
   "version": "3.7.7"
  }
 },
 "nbformat": 4,
 "nbformat_minor": 4
}
