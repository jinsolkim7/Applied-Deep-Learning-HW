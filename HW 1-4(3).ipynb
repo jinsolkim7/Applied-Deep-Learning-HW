{
 "cells": [
  {
   "cell_type": "markdown",
   "metadata": {},
   "source": [
    "### HW 1-4"
   ]
  },
  {
   "cell_type": "markdown",
   "metadata": {},
   "source": [
    "텍스트북의 3.4 (3.4_Binary_Classification_classifying-movie-reviews) 예제에서\n",
    "<br/> 1) We are using 2 hidden layers. Try to use 1 or 3 hidden layers and see how it affects validation and test accuracy.\n",
    "<br/> 2) Try to use layers with more hidden units or less hidden units: 32 units, 64 units...\n",
    "<br/> 3) Try to use the`mse` loss function instead of `binary_crossentropy`.\n",
    "<br/> 4) Try to use the `tanh` activation (an activation that was popular in the early days of neural networks) instead of `relu`."
   ]
  },
  {
   "cell_type": "markdown",
   "metadata": {},
   "source": [
    "#### 1. importing data"
   ]
  },
  {
   "cell_type": "code",
   "execution_count": null,
   "metadata": {
    "scrolled": true
   },
   "outputs": [],
   "source": [
    "from keras.datasets import imdb\n",
    "\n",
    "(train_data, train_labels), (test_data, test_labels) = imdb.load_data(num_words=10000)"
   ]
  },
  {
   "cell_type": "code",
   "execution_count": null,
   "metadata": {},
   "outputs": [],
   "source": [
    "train_data[0]"
   ]
  },
  {
   "cell_type": "code",
   "execution_count": null,
   "metadata": {},
   "outputs": [],
   "source": [
    "train_labels[0]"
   ]
  },
  {
   "cell_type": "code",
   "execution_count": null,
   "metadata": {},
   "outputs": [],
   "source": [
    "max([max(sequence) for sequence in train_data])"
   ]
  },
  {
   "cell_type": "markdown",
   "metadata": {},
   "source": [
    "#### 2. preparing data (list to tensor)"
   ]
  },
  {
   "cell_type": "code",
   "execution_count": null,
   "metadata": {},
   "outputs": [],
   "source": [
    "import numpy as np\n",
    "\n",
    "def vectorize_sequences(sequences, dimension=10000):\n",
    "    results = np.zeros((len(sequences), dimension))\n",
    "    for i, sequence in enumerate(sequences):\n",
    "        results[i, sequence] = 1.\n",
    "    return results\n",
    "\n",
    "x_train = vectorize_sequences(train_data)\n",
    "x_test = vectorize_sequences(test_data)"
   ]
  },
  {
   "cell_type": "code",
   "execution_count": null,
   "metadata": {},
   "outputs": [],
   "source": [
    "x_train[0]"
   ]
  },
  {
   "cell_type": "code",
   "execution_count": null,
   "metadata": {},
   "outputs": [],
   "source": [
    "y_train = np.asarray(train_labels).astype('float32')\n",
    "y_test = np.asarray(test_labels).astype('float32')"
   ]
  },
  {
   "cell_type": "markdown",
   "metadata": {},
   "source": [
    "#### 2. building network"
   ]
  },
  {
   "cell_type": "code",
   "execution_count": null,
   "metadata": {},
   "outputs": [],
   "source": [
    "from keras import models\n",
    "from keras import layers\n",
    "\n",
    "network = models.Sequential()\n",
    "network.add(layers.Dense(16, activation='relu', input_shape=(10000,)))\n",
    "network.add(layers.Dense(16, activation='relu'))\n",
    "network.add(layers.Dense(16, activation='relu'))\n",
    "network.add(layers.Dense(1, activation='sigmoid'))"
   ]
  },
  {
   "cell_type": "markdown",
   "metadata": {},
   "source": [
    "#### 3. setting optimizers"
   ]
  },
  {
   "cell_type": "code",
   "execution_count": 9,
   "metadata": {},
   "outputs": [
    {
     "name": "stdout",
     "output_type": "stream",
     "text": [
      "WARNING:tensorflow:From C:\\Users\\Ryu\\Anaconda3\\lib\\site-packages\\tensorflow\\python\\ops\\nn_impl.py:180: add_dispatch_support.<locals>.wrapper (from tensorflow.python.ops.array_ops) is deprecated and will be removed in a future version.\n",
      "Instructions for updating:\n",
      "Use tf.where in 2.0, which has the same broadcast rule as np.where\n"
     ]
    }
   ],
   "source": [
    "from keras import optimizers\n",
    "\n",
    "network.compile(optimizer='rmsprop',\n",
    "             loss='binary_crossentropy',\n",
    "             metrics=['accuracy'])"
   ]
  },
  {
   "cell_type": "markdown",
   "metadata": {},
   "source": [
    "#### 4. validation"
   ]
  },
  {
   "cell_type": "code",
   "execution_count": 10,
   "metadata": {},
   "outputs": [],
   "source": [
    "x_val = x_train[:10000]\n",
    "partial_x_train = x_train[10000:]\n",
    "\n",
    "y_val = y_train[:10000]\n",
    "partial_y_train = y_train[10000:]"
   ]
  },
  {
   "cell_type": "markdown",
   "metadata": {},
   "source": [
    "#### 5. model (network) training"
   ]
  },
  {
   "cell_type": "code",
   "execution_count": 11,
   "metadata": {},
   "outputs": [
    {
     "name": "stdout",
     "output_type": "stream",
     "text": [
      "WARNING:tensorflow:From C:\\Users\\Ryu\\Anaconda3\\lib\\site-packages\\keras\\backend\\tensorflow_backend.py:422: The name tf.global_variables is deprecated. Please use tf.compat.v1.global_variables instead.\n",
      "\n",
      "Train on 15000 samples, validate on 10000 samples\n",
      "Epoch 1/20\n",
      "15000/15000 [==============================] - 7s 458us/step - loss: 0.5109 - accuracy: 0.7787 - val_loss: 0.3813 - val_accuracy: 0.8521\n",
      "Epoch 2/20\n",
      "15000/15000 [==============================] - 6s 376us/step - loss: 0.2939 - accuracy: 0.8985 - val_loss: 0.2926 - val_accuracy: 0.8882\n",
      "Epoch 3/20\n",
      "15000/15000 [==============================] - 6s 370us/step - loss: 0.2106 - accuracy: 0.9283 - val_loss: 0.2901 - val_accuracy: 0.8851\n",
      "Epoch 4/20\n",
      "15000/15000 [==============================] - 7s 484us/step - loss: 0.1597 - accuracy: 0.9457 - val_loss: 0.3054 - val_accuracy: 0.8786\n",
      "Epoch 5/20\n",
      "15000/15000 [==============================] - 7s 446us/step - loss: 0.1296 - accuracy: 0.9557 - val_loss: 0.2946 - val_accuracy: 0.8826\n",
      "Epoch 6/20\n",
      "15000/15000 [==============================] - 7s 485us/step - loss: 0.1050 - accuracy: 0.9657 - val_loss: 0.3322 - val_accuracy: 0.8782\n",
      "Epoch 7/20\n",
      "15000/15000 [==============================] - 8s 548us/step - loss: 0.0837 - accuracy: 0.9729 - val_loss: 0.3382 - val_accuracy: 0.8803\n",
      "Epoch 8/20\n",
      "15000/15000 [==============================] - 17s 1ms/step - loss: 0.0693 - accuracy: 0.9783 - val_loss: 0.3655 - val_accuracy: 0.8780\n",
      "Epoch 9/20\n",
      "15000/15000 [==============================] - 15s 1ms/step - loss: 0.0552 - accuracy: 0.9831 - val_loss: 0.4324 - val_accuracy: 0.8725\n",
      "Epoch 10/20\n",
      "15000/15000 [==============================] - 22s 1ms/step - loss: 0.0457 - accuracy: 0.9862 - val_loss: 0.4282 - val_accuracy: 0.8746\n",
      "Epoch 11/20\n",
      "15000/15000 [==============================] - 16s 1ms/step - loss: 0.0381 - accuracy: 0.9897 - val_loss: 0.4652 - val_accuracy: 0.8726\n",
      "Epoch 12/20\n",
      "15000/15000 [==============================] - 8s 502us/step - loss: 0.0176 - accuracy: 0.9973 - val_loss: 0.5098 - val_accuracy: 0.8706\n",
      "Epoch 13/20\n",
      "15000/15000 [==============================] - 8s 559us/step - loss: 0.0241 - accuracy: 0.9933 - val_loss: 0.5585 - val_accuracy: 0.8648\n",
      "Epoch 14/20\n",
      "15000/15000 [==============================] - 8s 557us/step - loss: 0.0199 - accuracy: 0.9940 - val_loss: 0.5808 - val_accuracy: 0.8678\n",
      "Epoch 15/20\n",
      "15000/15000 [==============================] - 9s 602us/step - loss: 0.0078 - accuracy: 0.9993 - val_loss: 0.9864 - val_accuracy: 0.8169\n",
      "Epoch 16/20\n",
      "15000/15000 [==============================] - 9s 607us/step - loss: 0.0108 - accuracy: 0.9975 - val_loss: 0.6535 - val_accuracy: 0.8668\n",
      "Epoch 17/20\n",
      "15000/15000 [==============================] - 9s 622us/step - loss: 0.0212 - accuracy: 0.9946 - val_loss: 0.7198 - val_accuracy: 0.8643\n",
      "Epoch 18/20\n",
      "15000/15000 [==============================] - 8s 503us/step - loss: 0.0024 - accuracy: 0.9999 - val_loss: 0.7352 - val_accuracy: 0.8641\n",
      "Epoch 19/20\n",
      "15000/15000 [==============================] - 8s 505us/step - loss: 0.0019 - accuracy: 0.9999 - val_loss: 0.7816 - val_accuracy: 0.8631\n",
      "Epoch 20/20\n",
      "15000/15000 [==============================] - 8s 515us/step - loss: 0.0187 - accuracy: 0.9945 - val_loss: 0.8253 - val_accuracy: 0.8638\n"
     ]
    }
   ],
   "source": [
    "history = network.fit(partial_x_train,\n",
    "                   partial_y_train,\n",
    "                   epochs=20,\n",
    "                   batch_size=512,\n",
    "                   validation_data=(x_val, y_val))"
   ]
  },
  {
   "cell_type": "code",
   "execution_count": 12,
   "metadata": {},
   "outputs": [
    {
     "data": {
      "text/plain": [
       "dict_keys(['val_loss', 'val_accuracy', 'loss', 'accuracy'])"
      ]
     },
     "execution_count": 12,
     "metadata": {},
     "output_type": "execute_result"
    }
   ],
   "source": [
    "history_dict = history.history\n",
    "history_dict.keys()"
   ]
  },
  {
   "cell_type": "markdown",
   "metadata": {},
   "source": [
    "#### 6. plotting training and validation loss"
   ]
  },
  {
   "cell_type": "code",
   "execution_count": 13,
   "metadata": {},
   "outputs": [
    {
     "data": {
      "text/plain": [
       "<Figure size 640x480 with 1 Axes>"
      ]
     },
     "metadata": {},
     "output_type": "display_data"
    }
   ],
   "source": [
    "import matplotlib.pyplot as plt\n",
    "\n",
    "loss = history_dict['loss']\n",
    "val_loss = history_dict['val_loss']\n",
    "\n",
    "epochs = range(1, len(loss) + 1)\n",
    "\n",
    "plt.plot(epochs, loss, 'orange', label='Training loss')\n",
    "plt.plot(epochs, val_loss, 'royalblue', label='Validation loss')\n",
    "plt.title('Training and validation loss')\n",
    "plt.xlabel('Epochs')\n",
    "plt.ylabel('Loss')\n",
    "plt.legend()\n",
    "\n",
    "plt.show()"
   ]
  },
  {
   "cell_type": "code",
   "execution_count": 14,
   "metadata": {},
   "outputs": [
    {
     "data": {
      "image/png": "[encoded data removed]",
      "text/plain": [
       "<Figure size 432x288 with 1 Axes>"
      ]
     },
     "metadata": {
      "needs_background": "light"
     },
     "output_type": "display_data"
    }
   ],
   "source": [
    "plt.clf() # clear figure\n",
    "\n",
    "acc = history_dict['accuracy']\n",
    "val_acc = history_dict['val_accuracy']\n",
    "\n",
    "plt.plot(epochs, acc, 'orange', label='Training acc')\n",
    "plt.plot(epochs, val_acc, 'royalblue', label='Validation acc')\n",
    "plt.title('Training and validation accuracy')\n",
    "plt.xlabel('Epochs')\n",
    "plt.ylabel('Accuracy')\n",
    "plt.legend()\n",
    "\n",
    "plt.show()"
   ]
  },
  {
   "cell_type": "markdown",
   "metadata": {},
   "source": [
    "#### 7. results"
   ]
  },
  {
   "cell_type": "code",
   "execution_count": 15,
   "metadata": {},
   "outputs": [
    {
     "name": "stdout",
     "output_type": "stream",
     "text": [
      "25000/25000 [==============================] - 20s 814us/step\n"
     ]
    }
   ],
   "source": [
    "results = network.evaluate(x_test, y_test)"
   ]
  },
  {
   "cell_type": "code",
   "execution_count": 16,
   "metadata": {},
   "outputs": [
    {
     "data": {
      "text/plain": [
       "[0.9089684934544563, 0.8507199883460999]"
      ]
     },
     "execution_count": 16,
     "metadata": {},
     "output_type": "execute_result"
    }
   ],
   "source": [
    "results"
   ]
  }
 ],
 "metadata": {
  "kernelspec": {
   "display_name": "Python 3",
   "language": "python",
   "name": "python3"
  },
  "language_info": {
   "codemirror_mode": {
    "name": "ipython",
    "version": 3
   },
   "file_extension": ".py",
   "mimetype": "text/x-python",
   "name": "python",
   "nbconvert_exporter": "python",
   "pygments_lexer": "ipython3",
   "version": "3.7.7"
  }
 },
 "nbformat": 4,
 "nbformat_minor": 4
}
